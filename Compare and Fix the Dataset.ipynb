{
 "cells": [
  {
   "cell_type": "code",
   "execution_count": 1,
   "id": "fd1475e4",
   "metadata": {},
   "outputs": [],
   "source": [
    "import pickle\n",
    "import numpy as np"
   ]
  },
  {
   "cell_type": "code",
   "execution_count": null,
   "id": "0ef694c2",
   "metadata": {},
   "outputs": [],
   "source": [
    "with open('data/drone_dataset.pkl', 'rb') as f:\n",
    "#with open('data/drone_dataset.pkl', 'rb') as f:\n",
    "    my_dataset = pickle.load(f)"
   ]
  },
  {
   "cell_type": "code",
   "execution_count": null,
   "id": "362eb927",
   "metadata": {},
   "outputs": [],
   "source": [
    "len(my_dataset)"
   ]
  },
  {
   "cell_type": "code",
   "execution_count": null,
   "id": "a017f9b4",
   "metadata": {},
   "outputs": [],
   "source": [
    "with open('data/antmaze-large-diverse-v2.pkl', 'rb') as f:\n",
    "    their_dataset = pickle.load(f)"
   ]
  },
  {
   "cell_type": "code",
   "execution_count": null,
   "id": "2a461795",
   "metadata": {},
   "outputs": [],
   "source": [
    "def dataset_printer(dataset, i):\n",
    "    \n",
    "    obs = dataset[i]['observations']\n",
    "    actions = dataset[i]['actions']\n",
    "    rewards = dataset[i]['rewards']\n",
    "    next_observations = dataset[i]['next_observations']\n",
    "    terminals = dataset[i]['terminals']\n",
    "    #print(rewards)\n",
    "    print(\"observations: \\n max: {} min: {}\".format(np.max(obs),np.min(obs)))\n",
    "    print(\"actions: \\n max: {} min: {}\".format(np.max(actions),np.min(actions)))\n",
    "    print(\"rewards: \\n max: {} min: {}\".format(np.max(rewards),np.min(rewards)))\n",
    "    print(\"next_observations: \\n max: {} min: {}\".format(np.max(next_observations),np.min(next_observations)))\n",
    "    print(\"terminals: \\n max: {} min: {}\".format(np.max(terminals),np.min(terminals)))\n",
    "\n",
    "    \n",
    "    \n",
    "    \n",
    "    #print(\"actions: \\n {}\".format(dataset[i]['actions']))\n",
    "    #print(\"rewards: \\n {}\".format(dataset[i]['rewards']))\n",
    "    #print(\"next_observations: \\n {}\".format(dataset[i]['next_observations']))\n",
    "    #print(\"terminals: \\n {}\".format(dataset[i]['terminals']))"
   ]
  },
  {
   "cell_type": "code",
   "execution_count": null,
   "id": "706c41ef",
   "metadata": {},
   "outputs": [],
   "source": [
    "dataset_printer(my_dataset,589)"
   ]
  },
  {
   "cell_type": "code",
   "execution_count": null,
   "id": "c4a3b6d8",
   "metadata": {
    "scrolled": true
   },
   "outputs": [],
   "source": [
    "dataset_printer(their_dataset,120)"
   ]
  },
  {
   "cell_type": "code",
   "execution_count": null,
   "id": "c0dbdea5",
   "metadata": {},
   "outputs": [],
   "source": [
    "# Normalizando as rewards pra ver se resolve o problema dos pesos 0"
   ]
  },
  {
   "cell_type": "code",
   "execution_count": 50,
   "id": "b391ce65",
   "metadata": {},
   "outputs": [],
   "source": [
    "!cp ../drone_dataset.pkl data/drone_dataset.pkl"
   ]
  },
  {
   "cell_type": "code",
   "execution_count": 51,
   "id": "998601dd",
   "metadata": {},
   "outputs": [],
   "source": [
    "import sys\n",
    "import argparse\n",
    "import pickle\n",
    "from env import make_pytorch_env\n",
    "\n",
    "\n",
    "def normalize_array(x,x_max,x_min):\n",
    "    # Be careful because I am hardcoding the max and min\n",
    "    normalized = 2*(x - x_min)/(x_max - x_min) - 1\n",
    "    \n",
    "    return normalized\n",
    "\n",
    "with open('data/drone_dataset.pkl', 'rb') as f:\n",
    "    my_data = pickle.load(f)\n",
    "\n",
    "sys.argv = ['']\n",
    "\n",
    "parser = argparse.ArgumentParser()\n",
    "parser.add_argument(\"--env\", type=str, default=\"drone_dataset\")\n",
    "parser.add_argument(\"--device\", type=str, default=\"cuda\")\n",
    "\n",
    "\n",
    "\n",
    "args = parser.parse_args()\n",
    "env = make_pytorch_env(args)\n",
    "self = env\n"
   ]
  },
  {
   "cell_type": "code",
   "execution_count": 52,
   "id": "abccc527",
   "metadata": {},
   "outputs": [
    {
     "name": "stdout",
     "output_type": "stream",
     "text": [
      "79.26302713798701\n",
      "-72.32067935428668\n"
     ]
    }
   ],
   "source": [
    "print(np.max(my_data[0]['actions']))\n",
    "print(np.min(my_data[0]['actions']))"
   ]
  },
  {
   "cell_type": "code",
   "execution_count": 53,
   "id": "c8e921a1",
   "metadata": {},
   "outputs": [],
   "source": [
    "# First limit the actions between -4 and 4\n",
    "# Then normalize between -1 and 1\n",
    "\n",
    "for data in my_data:\n",
    "    data['actions'] = np.minimum(np.maximum(data['actions'], self.action_space.low*self.denormalize_action_factor),self.action_space.high*self.denormalize_action_factor)\n",
    "    data['actions'] = data['actions']/self.denormalize_action_factor\n",
    "    #data['actions'] = normalize_array(data['actions'],self.action_space.high,self.action_space.low)"
   ]
  },
  {
   "cell_type": "code",
   "execution_count": 54,
   "id": "081e5a69",
   "metadata": {},
   "outputs": [
    {
     "name": "stdout",
     "output_type": "stream",
     "text": [
      "1.0\n",
      "-1.0\n"
     ]
    }
   ],
   "source": [
    "print(np.max(my_data[0]['actions']))\n",
    "print(np.min(my_data[0]['actions']))"
   ]
  },
  {
   "cell_type": "code",
   "execution_count": null,
   "id": "cbe8cfa8",
   "metadata": {},
   "outputs": [],
   "source": [
    "CAREFUL"
   ]
  },
  {
   "cell_type": "code",
   "execution_count": 55,
   "id": "671f5bf1",
   "metadata": {},
   "outputs": [],
   "source": [
    "with open('data/drone_dataset.pkl', 'wb') as handle:\n",
    "    pickle.dump(my_data, handle, protocol=pickle.HIGHEST_PROTOCOL)"
   ]
  },
  {
   "cell_type": "raw",
   "id": "845824cb",
   "metadata": {},
   "source": [
    "max_reward = -999999\n",
    "min_reward = 999999\n",
    "for data in my_data:\n",
    "    \n",
    "    data['rewards']   = np.float32(data['rewards'].flatten())\n",
    "    \n",
    "    if np.max(data['rewards']) > max_reward:\n",
    "        max_reward = np.max(data['rewards'])\n",
    "        \n",
    "    if np.min(data['rewards']) < min_reward:\n",
    "        min_reward = np.min(data['rewards'])\n",
    "        \n",
    "        \n",
    "        \n",
    "for data in my_data:\n",
    "\n",
    "    # Normalize rewards\n",
    "    '''\n",
    "    data['rewards'] = (data['rewards'] - min_reward) / (max_reward-min_reward)\n",
    "    data['rewards'] = np.minimum(np.maximum(data['rewards'], 0), 1)\n",
    "    '''\n",
    "    # Normalize actions\n",
    "    data['actions'] = np.float32(np.minimum(np.maximum(data['actions'], -4.0), 4.0))\n",
    "    #data['actions'] = np.where(data['actions'] == 0, 0.0001, data['actions'])\n",
    "    # Fix other problems\n",
    "    '''\n",
    "    data['terminals'] = np.float32(data['terminals']*1.0)\n",
    "    data['observations'] = np.float32(data['observations'])\n",
    "    data['next_observations'] = np.float32(data['next_observations'])\n",
    "    '''"
   ]
  },
  {
   "cell_type": "code",
   "execution_count": null,
   "id": "c042c8d5",
   "metadata": {},
   "outputs": [],
   "source": [
    "with open('data/drone_dataset.pkl', 'wb') as handle:\n",
    "    pickle.dump(my_data, handle, protocol=pickle.HIGHEST_PROTOCOL)"
   ]
  },
  {
   "cell_type": "code",
   "execution_count": null,
   "id": "b27e0ae3",
   "metadata": {},
   "outputs": [],
   "source": [
    "False*1.0"
   ]
  },
  {
   "cell_type": "code",
   "execution_count": null,
   "id": "ea460367",
   "metadata": {},
   "outputs": [],
   "source": [
    "#!cp data/drone_dataset.pkl data/drone_dataset_bkp_16_mar.pkl"
   ]
  },
  {
   "cell_type": "code",
   "execution_count": null,
   "id": "1e6a783e",
   "metadata": {},
   "outputs": [],
   "source": [
    "#!cp ../drone_dataset.pkl data/drone_dataset.pkl"
   ]
  },
  {
   "cell_type": "code",
   "execution_count": null,
   "id": "30cd2e92",
   "metadata": {},
   "outputs": [],
   "source": []
  }
 ],
 "metadata": {
  "kernelspec": {
   "display_name": "Python 3 (ipykernel)",
   "language": "python",
   "name": "python3"
  },
  "language_info": {
   "codemirror_mode": {
    "name": "ipython",
    "version": 3
   },
   "file_extension": ".py",
   "mimetype": "text/x-python",
   "name": "python",
   "nbconvert_exporter": "python",
   "pygments_lexer": "ipython3",
   "version": "3.8.5"
  }
 },
 "nbformat": 4,
 "nbformat_minor": 5
}
